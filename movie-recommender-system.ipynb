{
 "cells": [
  {
   "cell_type": "code",
   "execution_count": 137,
   "id": "090e6cbe",
   "metadata": {},
   "outputs": [],
   "source": [
    "import numpy as np\n",
    "import pandas as pd"
   ]
  },
  {
   "cell_type": "code",
   "execution_count": 138,
   "id": "4f4e009d",
   "metadata": {},
   "outputs": [],
   "source": [
    "movies = pd.read_csv('movies.csv')\n",
    "credits = pd.read_csv('credits.csv')"
   ]
  },
  {
   "cell_type": "code",
   "execution_count": 149,
   "id": "e439d648",
   "metadata": {},
   "outputs": [
    {
     "data": {
      "text/html": [
       "<div>\n",
       "<style scoped>\n",
       "    .dataframe tbody tr th:only-of-type {\n",
       "        vertical-align: middle;\n",
       "    }\n",
       "\n",
       "    .dataframe tbody tr th {\n",
       "        vertical-align: top;\n",
       "    }\n",
       "\n",
       "    .dataframe thead th {\n",
       "        text-align: right;\n",
       "    }\n",
       "</style>\n",
       "<table border=\"1\" class=\"dataframe\">\n",
       "  <thead>\n",
       "    <tr style=\"text-align: right;\">\n",
       "      <th></th>\n",
       "      <th>budget</th>\n",
       "      <th>genres</th>\n",
       "      <th>homepage</th>\n",
       "      <th>id</th>\n",
       "      <th>keywords</th>\n",
       "      <th>original_language</th>\n",
       "      <th>original_title</th>\n",
       "      <th>overview</th>\n",
       "      <th>popularity</th>\n",
       "      <th>production_companies</th>\n",
       "      <th>production_countries</th>\n",
       "      <th>release_date</th>\n",
       "      <th>revenue</th>\n",
       "      <th>runtime</th>\n",
       "      <th>spoken_languages</th>\n",
       "      <th>status</th>\n",
       "      <th>tagline</th>\n",
       "      <th>title</th>\n",
       "      <th>vote_average</th>\n",
       "      <th>vote_count</th>\n",
       "    </tr>\n",
       "  </thead>\n",
       "  <tbody>\n",
       "    <tr>\n",
       "      <th>1023</th>\n",
       "      <td>0</td>\n",
       "      <td>[{\"id\": 18, \"name\": \"Drama\"}]</td>\n",
       "      <td>NaN</td>\n",
       "      <td>7504</td>\n",
       "      <td>[{\"id\": 818, \"name\": \"based on novel\"}, {\"id\":...</td>\n",
       "      <td>hi</td>\n",
       "      <td>1947: Earth</td>\n",
       "      <td>It's 1947 and the borderlines between India an...</td>\n",
       "      <td>1.246883</td>\n",
       "      <td>[{\"name\": \"Cracking the Earth Films\", \"id\": 22...</td>\n",
       "      <td>[{\"iso_3166_1\": \"CA\", \"name\": \"Canada\"}, {\"iso...</td>\n",
       "      <td>1998-09-16</td>\n",
       "      <td>528972</td>\n",
       "      <td>101.0</td>\n",
       "      <td>[{\"iso_639_1\": \"hi\", \"name\": \"\\u0939\\u093f\\u09...</td>\n",
       "      <td>Released</td>\n",
       "      <td>NaN</td>\n",
       "      <td>Earth</td>\n",
       "      <td>6.6</td>\n",
       "      <td>9</td>\n",
       "    </tr>\n",
       "    <tr>\n",
       "      <th>2962</th>\n",
       "      <td>7400000</td>\n",
       "      <td>[{\"id\": 18, \"name\": \"Drama\"}, {\"id\": 10749, \"n...</td>\n",
       "      <td>NaN</td>\n",
       "      <td>14395</td>\n",
       "      <td>[{\"id\": 596, \"name\": \"adultery\"}, {\"id\": 34094...</td>\n",
       "      <td>hi</td>\n",
       "      <td>कभी अलविदा ना कहना</td>\n",
       "      <td>Dev and Maya are both married to different peo...</td>\n",
       "      <td>3.246903</td>\n",
       "      <td>[{\"name\": \"Yash Raj Films\", \"id\": 1569}, {\"nam...</td>\n",
       "      <td>[{\"iso_3166_1\": \"IN\", \"name\": \"India\"}]</td>\n",
       "      <td>2006-08-11</td>\n",
       "      <td>17000000</td>\n",
       "      <td>193.0</td>\n",
       "      <td>[{\"iso_639_1\": \"en\", \"name\": \"English\"}, {\"iso...</td>\n",
       "      <td>Released</td>\n",
       "      <td>A Love.... That Broke All Relationships</td>\n",
       "      <td>Kabhi Alvida Naa Kehna</td>\n",
       "      <td>6.1</td>\n",
       "      <td>42</td>\n",
       "    </tr>\n",
       "    <tr>\n",
       "      <th>2971</th>\n",
       "      <td>0</td>\n",
       "      <td>[{\"id\": 18, \"name\": \"Drama\"}, {\"id\": 35, \"name...</td>\n",
       "      <td>http://housefull.erosentertainment.com/</td>\n",
       "      <td>58051</td>\n",
       "      <td>[]</td>\n",
       "      <td>hi</td>\n",
       "      <td>Housefull</td>\n",
       "      <td>Believing himself to be a jinx and bringing ba...</td>\n",
       "      <td>0.120820</td>\n",
       "      <td>[]</td>\n",
       "      <td>[{\"iso_3166_1\": \"IN\", \"name\": \"India\"}]</td>\n",
       "      <td>2010-04-30</td>\n",
       "      <td>0</td>\n",
       "      <td>135.0</td>\n",
       "      <td>[{\"iso_639_1\": \"hi\", \"name\": \"\\u0939\\u093f\\u09...</td>\n",
       "      <td>Released</td>\n",
       "      <td>He found the girl of his dreams, he fell in lo...</td>\n",
       "      <td>Housefull</td>\n",
       "      <td>5.2</td>\n",
       "      <td>29</td>\n",
       "    </tr>\n",
       "    <tr>\n",
       "      <th>3089</th>\n",
       "      <td>0</td>\n",
       "      <td>[{\"id\": 28, \"name\": \"Action\"}, {\"id\": 878, \"na...</td>\n",
       "      <td>NaN</td>\n",
       "      <td>32740</td>\n",
       "      <td>[]</td>\n",
       "      <td>hi</td>\n",
       "      <td>कृष</td>\n",
       "      <td>Krishna (Roshan) is born with magical powers -...</td>\n",
       "      <td>3.759988</td>\n",
       "      <td>[]</td>\n",
       "      <td>[]</td>\n",
       "      <td>2006-06-23</td>\n",
       "      <td>0</td>\n",
       "      <td>154.0</td>\n",
       "      <td>[{\"iso_639_1\": \"hi\", \"name\": \"\\u0939\\u093f\\u09...</td>\n",
       "      <td>Released</td>\n",
       "      <td>NaN</td>\n",
       "      <td>Krrish</td>\n",
       "      <td>5.5</td>\n",
       "      <td>46</td>\n",
       "    </tr>\n",
       "    <tr>\n",
       "      <th>3157</th>\n",
       "      <td>0</td>\n",
       "      <td>[{\"id\": 18, \"name\": \"Drama\"}, {\"id\": 10749, \"n...</td>\n",
       "      <td>NaN</td>\n",
       "      <td>132316</td>\n",
       "      <td>[{\"id\": 10540, \"name\": \"bollywood\"}, {\"id\": 15...</td>\n",
       "      <td>hi</td>\n",
       "      <td>Jab Tak Hai Jaan</td>\n",
       "      <td>An ex-army man, leading a double life in Londo...</td>\n",
       "      <td>5.900535</td>\n",
       "      <td>[{\"name\": \"Yash Raj Films\", \"id\": 1569}]</td>\n",
       "      <td>[{\"iso_3166_1\": \"IN\", \"name\": \"India\"}]</td>\n",
       "      <td>2012-11-13</td>\n",
       "      <td>0</td>\n",
       "      <td>176.0</td>\n",
       "      <td>[{\"iso_639_1\": \"hi\", \"name\": \"\\u0939\\u093f\\u09...</td>\n",
       "      <td>Released</td>\n",
       "      <td>NaN</td>\n",
       "      <td>Jab Tak Hai Jaan</td>\n",
       "      <td>7.3</td>\n",
       "      <td>66</td>\n",
       "    </tr>\n",
       "    <tr>\n",
       "      <th>3228</th>\n",
       "      <td>7700000</td>\n",
       "      <td>[{\"id\": 10749, \"name\": \"Romance\"}]</td>\n",
       "      <td>http://www.facebook.com/YehJawaaniHaiDeewani</td>\n",
       "      <td>185008</td>\n",
       "      <td>[]</td>\n",
       "      <td>hi</td>\n",
       "      <td>Yeh Jawaani Hai Deewani</td>\n",
       "      <td>Yeh Jawaani Hai Deewani features two polar opp...</td>\n",
       "      <td>3.353176</td>\n",
       "      <td>[{\"name\": \"Dharma Productions\", \"id\": 19146}]</td>\n",
       "      <td>[{\"iso_3166_1\": \"IN\", \"name\": \"India\"}]</td>\n",
       "      <td>2013-05-31</td>\n",
       "      <td>46000000</td>\n",
       "      <td>159.0</td>\n",
       "      <td>[{\"iso_639_1\": \"hi\", \"name\": \"\\u0939\\u093f\\u09...</td>\n",
       "      <td>Released</td>\n",
       "      <td>NaN</td>\n",
       "      <td>Yeh Jawaani Hai Deewani</td>\n",
       "      <td>7.2</td>\n",
       "      <td>79</td>\n",
       "    </tr>\n",
       "    <tr>\n",
       "      <th>3327</th>\n",
       "      <td>0</td>\n",
       "      <td>[{\"id\": 10751, \"name\": \"Family\"}, {\"id\": 35, \"...</td>\n",
       "      <td>http://www.yashrajfilms.com/microsites/TRRP/mi...</td>\n",
       "      <td>14165</td>\n",
       "      <td>[{\"id\": 242, \"name\": \"new york\"}, {\"id\": 5626,...</td>\n",
       "      <td>hi</td>\n",
       "      <td>Ta Ra Rum Pum</td>\n",
       "      <td>A poor New York resident, who is of Indian ori...</td>\n",
       "      <td>0.553752</td>\n",
       "      <td>[{\"name\": \"Yash Raj Films\", \"id\": 1569}]</td>\n",
       "      <td>[{\"iso_3166_1\": \"IN\", \"name\": \"India\"}]</td>\n",
       "      <td>2007-04-27</td>\n",
       "      <td>0</td>\n",
       "      <td>156.0</td>\n",
       "      <td>[{\"iso_639_1\": \"en\", \"name\": \"English\"}, {\"iso...</td>\n",
       "      <td>Released</td>\n",
       "      <td>NaN</td>\n",
       "      <td>Ta Ra Rum Pum</td>\n",
       "      <td>6.0</td>\n",
       "      <td>13</td>\n",
       "    </tr>\n",
       "    <tr>\n",
       "      <th>3374</th>\n",
       "      <td>7000000</td>\n",
       "      <td>[{\"id\": 18, \"name\": \"Drama\"}, {\"id\": 10749, \"n...</td>\n",
       "      <td>NaN</td>\n",
       "      <td>4251</td>\n",
       "      <td>[{\"id\": 2038, \"name\": \"love of one's life\"}, {...</td>\n",
       "      <td>hi</td>\n",
       "      <td>Veer-Zaara</td>\n",
       "      <td>The story of the love between Veer Pratap Sing...</td>\n",
       "      <td>3.721858</td>\n",
       "      <td>[{\"name\": \"Yash Raj Films\", \"id\": 1569}]</td>\n",
       "      <td>[{\"iso_3166_1\": \"IN\", \"name\": \"India\"}]</td>\n",
       "      <td>2004-11-12</td>\n",
       "      <td>29385320</td>\n",
       "      <td>192.0</td>\n",
       "      <td>[{\"iso_639_1\": \"hi\", \"name\": \"\\u0939\\u093f\\u09...</td>\n",
       "      <td>Released</td>\n",
       "      <td>A Love Legend</td>\n",
       "      <td>Veer-Zaara</td>\n",
       "      <td>7.4</td>\n",
       "      <td>64</td>\n",
       "    </tr>\n",
       "    <tr>\n",
       "      <th>3543</th>\n",
       "      <td>2200000</td>\n",
       "      <td>[{\"id\": 18, \"name\": \"Drama\"}]</td>\n",
       "      <td>NaN</td>\n",
       "      <td>7913</td>\n",
       "      <td>[{\"id\": 2387, \"name\": \"new delhi india\"}, {\"id...</td>\n",
       "      <td>hi</td>\n",
       "      <td>Rang De Basanti</td>\n",
       "      <td>A young idealistic English filmmaker, Sue, arr...</td>\n",
       "      <td>5.206967</td>\n",
       "      <td>[{\"name\": \"Flicks Motion Pictures\", \"id\": 2319...</td>\n",
       "      <td>[{\"iso_3166_1\": \"IN\", \"name\": \"India\"}]</td>\n",
       "      <td>2006-01-26</td>\n",
       "      <td>11502151</td>\n",
       "      <td>157.0</td>\n",
       "      <td>[{\"iso_639_1\": \"hi\", \"name\": \"\\u0939\\u093f\\u09...</td>\n",
       "      <td>Released</td>\n",
       "      <td>A Generation Awakens</td>\n",
       "      <td>Rang De Basanti</td>\n",
       "      <td>7.2</td>\n",
       "      <td>97</td>\n",
       "    </tr>\n",
       "    <tr>\n",
       "      <th>3553</th>\n",
       "      <td>0</td>\n",
       "      <td>[{\"id\": 18, \"name\": \"Drama\"}, {\"id\": 28, \"name...</td>\n",
       "      <td>http://www.dummaarodum.com/</td>\n",
       "      <td>63006</td>\n",
       "      <td>[{\"id\": 7090, \"name\": \"goa\"}, {\"id\": 33067, \"n...</td>\n",
       "      <td>hi</td>\n",
       "      <td>Dum Maaro Dum</td>\n",
       "      <td>We hurtle into the bylanes, beach shacks and r...</td>\n",
       "      <td>0.075817</td>\n",
       "      <td>[]</td>\n",
       "      <td>[]</td>\n",
       "      <td>2011-04-22</td>\n",
       "      <td>0</td>\n",
       "      <td>130.0</td>\n",
       "      <td>[{\"iso_639_1\": \"en\", \"name\": \"English\"}, {\"iso...</td>\n",
       "      <td>Released</td>\n",
       "      <td>Goa. Paradise on Earth. But every Paradise has...</td>\n",
       "      <td>Dum Maaro Dum</td>\n",
       "      <td>5.4</td>\n",
       "      <td>7</td>\n",
       "    </tr>\n",
       "    <tr>\n",
       "      <th>3645</th>\n",
       "      <td>0</td>\n",
       "      <td>[{\"id\": 18, \"name\": \"Drama\"}, {\"id\": 10769, \"n...</td>\n",
       "      <td>http://gandhimyfather.erosentertainment.com/</td>\n",
       "      <td>38428</td>\n",
       "      <td>[{\"id\": 5565, \"name\": \"biography\"}, {\"id\": 792...</td>\n",
       "      <td>hi</td>\n",
       "      <td>Gandhi, My Father</td>\n",
       "      <td>With Gandhi My Father, producer Anil Kapoor an...</td>\n",
       "      <td>0.080704</td>\n",
       "      <td>[]</td>\n",
       "      <td>[{\"iso_3166_1\": \"IN\", \"name\": \"India\"}]</td>\n",
       "      <td>2007-08-03</td>\n",
       "      <td>0</td>\n",
       "      <td>136.0</td>\n",
       "      <td>[{\"iso_639_1\": \"hi\", \"name\": \"\\u0939\\u093f\\u09...</td>\n",
       "      <td>Released</td>\n",
       "      <td>To the People...He was a Father. To his Son......</td>\n",
       "      <td>Gandhi, My Father</td>\n",
       "      <td>6.0</td>\n",
       "      <td>2</td>\n",
       "    </tr>\n",
       "    <tr>\n",
       "      <th>3722</th>\n",
       "      <td>4500000</td>\n",
       "      <td>[{\"id\": 53, \"name\": \"Thriller\"}, {\"id\": 28, \"n...</td>\n",
       "      <td>NaN</td>\n",
       "      <td>375290</td>\n",
       "      <td>[{\"id\": 2227, \"name\": \"evacuation\"}, {\"id\": 60...</td>\n",
       "      <td>hi</td>\n",
       "      <td>Airlift</td>\n",
       "      <td>When Iraq invades Kuwait in August, 1990, a ca...</td>\n",
       "      <td>2.551559</td>\n",
       "      <td>[{\"name\": \"T-Series\", \"id\": 3522}, {\"name\": \"H...</td>\n",
       "      <td>[{\"iso_3166_1\": \"IN\", \"name\": \"India\"}]</td>\n",
       "      <td>2016-01-22</td>\n",
       "      <td>32000000</td>\n",
       "      <td>126.0</td>\n",
       "      <td>[{\"iso_639_1\": \"ar\", \"name\": \"\\u0627\\u0644\\u06...</td>\n",
       "      <td>Released</td>\n",
       "      <td>170,000 Refugees, 488 Flights, 59 Days, 1 Man</td>\n",
       "      <td>Airlift</td>\n",
       "      <td>7.3</td>\n",
       "      <td>57</td>\n",
       "    </tr>\n",
       "    <tr>\n",
       "      <th>4166</th>\n",
       "      <td>0</td>\n",
       "      <td>[{\"id\": 18, \"name\": \"Drama\"}, {\"id\": 10402, \"n...</td>\n",
       "      <td>NaN</td>\n",
       "      <td>157293</td>\n",
       "      <td>[{\"id\": 240, \"name\": \"underdog\"}, {\"id\": 271, ...</td>\n",
       "      <td>hi</td>\n",
       "      <td>एबीसीडी</td>\n",
       "      <td>When a capable dancer is provoked by the evil ...</td>\n",
       "      <td>1.294967</td>\n",
       "      <td>[{\"name\": \"UTV Motion Pictures\", \"id\": 2320}]</td>\n",
       "      <td>[{\"iso_3166_1\": \"IN\", \"name\": \"India\"}]</td>\n",
       "      <td>2013-02-07</td>\n",
       "      <td>222000</td>\n",
       "      <td>160.0</td>\n",
       "      <td>[{\"iso_639_1\": \"hi\", \"name\": \"\\u0939\\u093f\\u09...</td>\n",
       "      <td>Released</td>\n",
       "      <td>India's First 3D Dance movie</td>\n",
       "      <td>ABCD (Any Body Can Dance)</td>\n",
       "      <td>5.6</td>\n",
       "      <td>10</td>\n",
       "    </tr>\n",
       "    <tr>\n",
       "      <th>4198</th>\n",
       "      <td>1000000</td>\n",
       "      <td>[{\"id\": 18, \"name\": \"Drama\"}, {\"id\": 10749, \"n...</td>\n",
       "      <td>NaN</td>\n",
       "      <td>191714</td>\n",
       "      <td>[]</td>\n",
       "      <td>hi</td>\n",
       "      <td>Dabba</td>\n",
       "      <td>A mistaken delivery in Mumbai's famously effic...</td>\n",
       "      <td>14.017809</td>\n",
       "      <td>[{\"name\": \"UTV Motion Pictures\", \"id\": 2320}]</td>\n",
       "      <td>[{\"iso_3166_1\": \"IN\", \"name\": \"India\"}, {\"iso_...</td>\n",
       "      <td>2013-09-19</td>\n",
       "      <td>4235151</td>\n",
       "      <td>104.0</td>\n",
       "      <td>[{\"iso_639_1\": \"en\", \"name\": \"English\"}, {\"iso...</td>\n",
       "      <td>Released</td>\n",
       "      <td>NaN</td>\n",
       "      <td>The Lunchbox</td>\n",
       "      <td>7.3</td>\n",
       "      <td>221</td>\n",
       "    </tr>\n",
       "    <tr>\n",
       "      <th>4210</th>\n",
       "      <td>0</td>\n",
       "      <td>[{\"id\": 10749, \"name\": \"Romance\"}]</td>\n",
       "      <td>NaN</td>\n",
       "      <td>74084</td>\n",
       "      <td>[]</td>\n",
       "      <td>hi</td>\n",
       "      <td>दिल जो भी कहे</td>\n",
       "      <td>During the British rule in India, several Indi...</td>\n",
       "      <td>0.122704</td>\n",
       "      <td>[{\"name\": \"Entertainment One Pvt. Ltd.\", \"id\":...</td>\n",
       "      <td>[{\"iso_3166_1\": \"IN\", \"name\": \"India\"}]</td>\n",
       "      <td>2006-12-07</td>\n",
       "      <td>0</td>\n",
       "      <td>0.0</td>\n",
       "      <td>[{\"iso_639_1\": \"en\", \"name\": \"English\"}, {\"iso...</td>\n",
       "      <td>Released</td>\n",
       "      <td>NaN</td>\n",
       "      <td>Dil Jo Bhi Kahey...</td>\n",
       "      <td>0.0</td>\n",
       "      <td>0</td>\n",
       "    </tr>\n",
       "    <tr>\n",
       "      <th>4295</th>\n",
       "      <td>0</td>\n",
       "      <td>[{\"id\": 35, \"name\": \"Comedy\"}, {\"id\": 18, \"nam...</td>\n",
       "      <td>NaN</td>\n",
       "      <td>480</td>\n",
       "      <td>[{\"id\": 516, \"name\": \"child abuse\"}, {\"id\": 59...</td>\n",
       "      <td>hi</td>\n",
       "      <td>Monsoon Wedding</td>\n",
       "      <td>From an exciting Indian wedding comes a relati...</td>\n",
       "      <td>8.109958</td>\n",
       "      <td>[{\"name\": \"IFC Films\", \"id\": 307}, {\"name\": \"M...</td>\n",
       "      <td>[{\"iso_3166_1\": \"IN\", \"name\": \"India\"}]</td>\n",
       "      <td>2001-08-30</td>\n",
       "      <td>0</td>\n",
       "      <td>114.0</td>\n",
       "      <td>[{\"iso_639_1\": \"en\", \"name\": \"English\"}, {\"iso...</td>\n",
       "      <td>Released</td>\n",
       "      <td>A stressed father, a bride-to-be with a secret...</td>\n",
       "      <td>Monsoon Wedding</td>\n",
       "      <td>6.8</td>\n",
       "      <td>57</td>\n",
       "    </tr>\n",
       "    <tr>\n",
       "      <th>4331</th>\n",
       "      <td>1250000</td>\n",
       "      <td>[{\"id\": 18, \"name\": \"Drama\"}, {\"id\": 35, \"name...</td>\n",
       "      <td>http://www.yashrajfilms.com/microsites/rockets...</td>\n",
       "      <td>26815</td>\n",
       "      <td>[{\"id\": 3734, \"name\": \"ambition\"}, {\"id\": 1054...</td>\n",
       "      <td>hi</td>\n",
       "      <td>Rocket Singh: Salesman of the Year</td>\n",
       "      <td>Rocket Singh - Salesman of the Year is the som...</td>\n",
       "      <td>3.000435</td>\n",
       "      <td>[{\"name\": \"Yash Raj Films\", \"id\": 1569}]</td>\n",
       "      <td>[{\"iso_3166_1\": \"IN\", \"name\": \"India\"}]</td>\n",
       "      <td>2009-12-11</td>\n",
       "      <td>0</td>\n",
       "      <td>156.0</td>\n",
       "      <td>[{\"iso_639_1\": \"hi\", \"name\": \"\\u0939\\u093f\\u09...</td>\n",
       "      <td>Released</td>\n",
       "      <td>Welcome to the world of sales boss!</td>\n",
       "      <td>Rocket Singh: Salesman of the Year</td>\n",
       "      <td>7.0</td>\n",
       "      <td>27</td>\n",
       "    </tr>\n",
       "    <tr>\n",
       "      <th>4371</th>\n",
       "      <td>1000000</td>\n",
       "      <td>[{\"id\": 18, \"name\": \"Drama\"}, {\"id\": 10769, \"n...</td>\n",
       "      <td>NaN</td>\n",
       "      <td>56666</td>\n",
       "      <td>[{\"id\": 236, \"name\": \"suicide\"}, {\"id\": 963, \"...</td>\n",
       "      <td>hi</td>\n",
       "      <td>Fiza</td>\n",
       "      <td>In 1993 Fiza's brother disappears during the r...</td>\n",
       "      <td>0.043023</td>\n",
       "      <td>[]</td>\n",
       "      <td>[{\"iso_3166_1\": \"IN\", \"name\": \"India\"}]</td>\n",
       "      <td>2000-09-08</td>\n",
       "      <td>623791</td>\n",
       "      <td>170.0</td>\n",
       "      <td>[{\"iso_639_1\": \"hi\", \"name\": \"\\u0939\\u093f\\u09...</td>\n",
       "      <td>Released</td>\n",
       "      <td>In Search of her brother</td>\n",
       "      <td>Fiza</td>\n",
       "      <td>6.1</td>\n",
       "      <td>7</td>\n",
       "    </tr>\n",
       "    <tr>\n",
       "      <th>4512</th>\n",
       "      <td>550000</td>\n",
       "      <td>[{\"id\": 99, \"name\": \"Documentary\"}, {\"id\": 18,...</td>\n",
       "      <td>NaN</td>\n",
       "      <td>211086</td>\n",
       "      <td>[{\"id\": 486, \"name\": \"himalaya\"}, {\"id\": 4096,...</td>\n",
       "      <td>hi</td>\n",
       "      <td>Faith Connections</td>\n",
       "      <td>A filmmaker's insight into the biggest gatheri...</td>\n",
       "      <td>0.480880</td>\n",
       "      <td>[{\"name\": \"Jungle Book Entertainment\", \"id\": 5...</td>\n",
       "      <td>[{\"iso_3166_1\": \"FR\", \"name\": \"France\"}, {\"iso...</td>\n",
       "      <td>2013-11-21</td>\n",
       "      <td>0</td>\n",
       "      <td>115.0</td>\n",
       "      <td>[{\"iso_639_1\": \"hi\", \"name\": \"\\u0939\\u093f\\u09...</td>\n",
       "      <td>Released</td>\n",
       "      <td>NaN</td>\n",
       "      <td>Faith Connections</td>\n",
       "      <td>4.2</td>\n",
       "      <td>3</td>\n",
       "    </tr>\n",
       "  </tbody>\n",
       "</table>\n",
       "</div>"
      ],
      "text/plain": [
       "       budget                                             genres  \\\n",
       "1023        0                      [{\"id\": 18, \"name\": \"Drama\"}]   \n",
       "2962  7400000  [{\"id\": 18, \"name\": \"Drama\"}, {\"id\": 10749, \"n...   \n",
       "2971        0  [{\"id\": 18, \"name\": \"Drama\"}, {\"id\": 35, \"name...   \n",
       "3089        0  [{\"id\": 28, \"name\": \"Action\"}, {\"id\": 878, \"na...   \n",
       "3157        0  [{\"id\": 18, \"name\": \"Drama\"}, {\"id\": 10749, \"n...   \n",
       "3228  7700000                 [{\"id\": 10749, \"name\": \"Romance\"}]   \n",
       "3327        0  [{\"id\": 10751, \"name\": \"Family\"}, {\"id\": 35, \"...   \n",
       "3374  7000000  [{\"id\": 18, \"name\": \"Drama\"}, {\"id\": 10749, \"n...   \n",
       "3543  2200000                      [{\"id\": 18, \"name\": \"Drama\"}]   \n",
       "3553        0  [{\"id\": 18, \"name\": \"Drama\"}, {\"id\": 28, \"name...   \n",
       "3645        0  [{\"id\": 18, \"name\": \"Drama\"}, {\"id\": 10769, \"n...   \n",
       "3722  4500000  [{\"id\": 53, \"name\": \"Thriller\"}, {\"id\": 28, \"n...   \n",
       "4166        0  [{\"id\": 18, \"name\": \"Drama\"}, {\"id\": 10402, \"n...   \n",
       "4198  1000000  [{\"id\": 18, \"name\": \"Drama\"}, {\"id\": 10749, \"n...   \n",
       "4210        0                 [{\"id\": 10749, \"name\": \"Romance\"}]   \n",
       "4295        0  [{\"id\": 35, \"name\": \"Comedy\"}, {\"id\": 18, \"nam...   \n",
       "4331  1250000  [{\"id\": 18, \"name\": \"Drama\"}, {\"id\": 35, \"name...   \n",
       "4371  1000000  [{\"id\": 18, \"name\": \"Drama\"}, {\"id\": 10769, \"n...   \n",
       "4512   550000  [{\"id\": 99, \"name\": \"Documentary\"}, {\"id\": 18,...   \n",
       "\n",
       "                                               homepage      id  \\\n",
       "1023                                                NaN    7504   \n",
       "2962                                                NaN   14395   \n",
       "2971            http://housefull.erosentertainment.com/   58051   \n",
       "3089                                                NaN   32740   \n",
       "3157                                                NaN  132316   \n",
       "3228       http://www.facebook.com/YehJawaaniHaiDeewani  185008   \n",
       "3327  http://www.yashrajfilms.com/microsites/TRRP/mi...   14165   \n",
       "3374                                                NaN    4251   \n",
       "3543                                                NaN    7913   \n",
       "3553                        http://www.dummaarodum.com/   63006   \n",
       "3645       http://gandhimyfather.erosentertainment.com/   38428   \n",
       "3722                                                NaN  375290   \n",
       "4166                                                NaN  157293   \n",
       "4198                                                NaN  191714   \n",
       "4210                                                NaN   74084   \n",
       "4295                                                NaN     480   \n",
       "4331  http://www.yashrajfilms.com/microsites/rockets...   26815   \n",
       "4371                                                NaN   56666   \n",
       "4512                                                NaN  211086   \n",
       "\n",
       "                                               keywords original_language  \\\n",
       "1023  [{\"id\": 818, \"name\": \"based on novel\"}, {\"id\":...                hi   \n",
       "2962  [{\"id\": 596, \"name\": \"adultery\"}, {\"id\": 34094...                hi   \n",
       "2971                                                 []                hi   \n",
       "3089                                                 []                hi   \n",
       "3157  [{\"id\": 10540, \"name\": \"bollywood\"}, {\"id\": 15...                hi   \n",
       "3228                                                 []                hi   \n",
       "3327  [{\"id\": 242, \"name\": \"new york\"}, {\"id\": 5626,...                hi   \n",
       "3374  [{\"id\": 2038, \"name\": \"love of one's life\"}, {...                hi   \n",
       "3543  [{\"id\": 2387, \"name\": \"new delhi india\"}, {\"id...                hi   \n",
       "3553  [{\"id\": 7090, \"name\": \"goa\"}, {\"id\": 33067, \"n...                hi   \n",
       "3645  [{\"id\": 5565, \"name\": \"biography\"}, {\"id\": 792...                hi   \n",
       "3722  [{\"id\": 2227, \"name\": \"evacuation\"}, {\"id\": 60...                hi   \n",
       "4166  [{\"id\": 240, \"name\": \"underdog\"}, {\"id\": 271, ...                hi   \n",
       "4198                                                 []                hi   \n",
       "4210                                                 []                hi   \n",
       "4295  [{\"id\": 516, \"name\": \"child abuse\"}, {\"id\": 59...                hi   \n",
       "4331  [{\"id\": 3734, \"name\": \"ambition\"}, {\"id\": 1054...                hi   \n",
       "4371  [{\"id\": 236, \"name\": \"suicide\"}, {\"id\": 963, \"...                hi   \n",
       "4512  [{\"id\": 486, \"name\": \"himalaya\"}, {\"id\": 4096,...                hi   \n",
       "\n",
       "                          original_title  \\\n",
       "1023                         1947: Earth   \n",
       "2962                  कभी अलविदा ना कहना   \n",
       "2971                           Housefull   \n",
       "3089                                 कृष   \n",
       "3157                    Jab Tak Hai Jaan   \n",
       "3228             Yeh Jawaani Hai Deewani   \n",
       "3327                       Ta Ra Rum Pum   \n",
       "3374                          Veer-Zaara   \n",
       "3543                     Rang De Basanti   \n",
       "3553                       Dum Maaro Dum   \n",
       "3645                   Gandhi, My Father   \n",
       "3722                             Airlift   \n",
       "4166                             एबीसीडी   \n",
       "4198                               Dabba   \n",
       "4210                       दिल जो भी कहे   \n",
       "4295                     Monsoon Wedding   \n",
       "4331  Rocket Singh: Salesman of the Year   \n",
       "4371                                Fiza   \n",
       "4512                   Faith Connections   \n",
       "\n",
       "                                               overview  popularity  \\\n",
       "1023  It's 1947 and the borderlines between India an...    1.246883   \n",
       "2962  Dev and Maya are both married to different peo...    3.246903   \n",
       "2971  Believing himself to be a jinx and bringing ba...    0.120820   \n",
       "3089  Krishna (Roshan) is born with magical powers -...    3.759988   \n",
       "3157  An ex-army man, leading a double life in Londo...    5.900535   \n",
       "3228  Yeh Jawaani Hai Deewani features two polar opp...    3.353176   \n",
       "3327  A poor New York resident, who is of Indian ori...    0.553752   \n",
       "3374  The story of the love between Veer Pratap Sing...    3.721858   \n",
       "3543  A young idealistic English filmmaker, Sue, arr...    5.206967   \n",
       "3553  We hurtle into the bylanes, beach shacks and r...    0.075817   \n",
       "3645  With Gandhi My Father, producer Anil Kapoor an...    0.080704   \n",
       "3722  When Iraq invades Kuwait in August, 1990, a ca...    2.551559   \n",
       "4166  When a capable dancer is provoked by the evil ...    1.294967   \n",
       "4198  A mistaken delivery in Mumbai's famously effic...   14.017809   \n",
       "4210  During the British rule in India, several Indi...    0.122704   \n",
       "4295  From an exciting Indian wedding comes a relati...    8.109958   \n",
       "4331  Rocket Singh - Salesman of the Year is the som...    3.000435   \n",
       "4371  In 1993 Fiza's brother disappears during the r...    0.043023   \n",
       "4512  A filmmaker's insight into the biggest gatheri...    0.480880   \n",
       "\n",
       "                                   production_companies  \\\n",
       "1023  [{\"name\": \"Cracking the Earth Films\", \"id\": 22...   \n",
       "2962  [{\"name\": \"Yash Raj Films\", \"id\": 1569}, {\"nam...   \n",
       "2971                                                 []   \n",
       "3089                                                 []   \n",
       "3157           [{\"name\": \"Yash Raj Films\", \"id\": 1569}]   \n",
       "3228      [{\"name\": \"Dharma Productions\", \"id\": 19146}]   \n",
       "3327           [{\"name\": \"Yash Raj Films\", \"id\": 1569}]   \n",
       "3374           [{\"name\": \"Yash Raj Films\", \"id\": 1569}]   \n",
       "3543  [{\"name\": \"Flicks Motion Pictures\", \"id\": 2319...   \n",
       "3553                                                 []   \n",
       "3645                                                 []   \n",
       "3722  [{\"name\": \"T-Series\", \"id\": 3522}, {\"name\": \"H...   \n",
       "4166      [{\"name\": \"UTV Motion Pictures\", \"id\": 2320}]   \n",
       "4198      [{\"name\": \"UTV Motion Pictures\", \"id\": 2320}]   \n",
       "4210  [{\"name\": \"Entertainment One Pvt. Ltd.\", \"id\":...   \n",
       "4295  [{\"name\": \"IFC Films\", \"id\": 307}, {\"name\": \"M...   \n",
       "4331           [{\"name\": \"Yash Raj Films\", \"id\": 1569}]   \n",
       "4371                                                 []   \n",
       "4512  [{\"name\": \"Jungle Book Entertainment\", \"id\": 5...   \n",
       "\n",
       "                                   production_countries release_date  \\\n",
       "1023  [{\"iso_3166_1\": \"CA\", \"name\": \"Canada\"}, {\"iso...   1998-09-16   \n",
       "2962            [{\"iso_3166_1\": \"IN\", \"name\": \"India\"}]   2006-08-11   \n",
       "2971            [{\"iso_3166_1\": \"IN\", \"name\": \"India\"}]   2010-04-30   \n",
       "3089                                                 []   2006-06-23   \n",
       "3157            [{\"iso_3166_1\": \"IN\", \"name\": \"India\"}]   2012-11-13   \n",
       "3228            [{\"iso_3166_1\": \"IN\", \"name\": \"India\"}]   2013-05-31   \n",
       "3327            [{\"iso_3166_1\": \"IN\", \"name\": \"India\"}]   2007-04-27   \n",
       "3374            [{\"iso_3166_1\": \"IN\", \"name\": \"India\"}]   2004-11-12   \n",
       "3543            [{\"iso_3166_1\": \"IN\", \"name\": \"India\"}]   2006-01-26   \n",
       "3553                                                 []   2011-04-22   \n",
       "3645            [{\"iso_3166_1\": \"IN\", \"name\": \"India\"}]   2007-08-03   \n",
       "3722            [{\"iso_3166_1\": \"IN\", \"name\": \"India\"}]   2016-01-22   \n",
       "4166            [{\"iso_3166_1\": \"IN\", \"name\": \"India\"}]   2013-02-07   \n",
       "4198  [{\"iso_3166_1\": \"IN\", \"name\": \"India\"}, {\"iso_...   2013-09-19   \n",
       "4210            [{\"iso_3166_1\": \"IN\", \"name\": \"India\"}]   2006-12-07   \n",
       "4295            [{\"iso_3166_1\": \"IN\", \"name\": \"India\"}]   2001-08-30   \n",
       "4331            [{\"iso_3166_1\": \"IN\", \"name\": \"India\"}]   2009-12-11   \n",
       "4371            [{\"iso_3166_1\": \"IN\", \"name\": \"India\"}]   2000-09-08   \n",
       "4512  [{\"iso_3166_1\": \"FR\", \"name\": \"France\"}, {\"iso...   2013-11-21   \n",
       "\n",
       "       revenue  runtime                                   spoken_languages  \\\n",
       "1023    528972    101.0  [{\"iso_639_1\": \"hi\", \"name\": \"\\u0939\\u093f\\u09...   \n",
       "2962  17000000    193.0  [{\"iso_639_1\": \"en\", \"name\": \"English\"}, {\"iso...   \n",
       "2971         0    135.0  [{\"iso_639_1\": \"hi\", \"name\": \"\\u0939\\u093f\\u09...   \n",
       "3089         0    154.0  [{\"iso_639_1\": \"hi\", \"name\": \"\\u0939\\u093f\\u09...   \n",
       "3157         0    176.0  [{\"iso_639_1\": \"hi\", \"name\": \"\\u0939\\u093f\\u09...   \n",
       "3228  46000000    159.0  [{\"iso_639_1\": \"hi\", \"name\": \"\\u0939\\u093f\\u09...   \n",
       "3327         0    156.0  [{\"iso_639_1\": \"en\", \"name\": \"English\"}, {\"iso...   \n",
       "3374  29385320    192.0  [{\"iso_639_1\": \"hi\", \"name\": \"\\u0939\\u093f\\u09...   \n",
       "3543  11502151    157.0  [{\"iso_639_1\": \"hi\", \"name\": \"\\u0939\\u093f\\u09...   \n",
       "3553         0    130.0  [{\"iso_639_1\": \"en\", \"name\": \"English\"}, {\"iso...   \n",
       "3645         0    136.0  [{\"iso_639_1\": \"hi\", \"name\": \"\\u0939\\u093f\\u09...   \n",
       "3722  32000000    126.0  [{\"iso_639_1\": \"ar\", \"name\": \"\\u0627\\u0644\\u06...   \n",
       "4166    222000    160.0  [{\"iso_639_1\": \"hi\", \"name\": \"\\u0939\\u093f\\u09...   \n",
       "4198   4235151    104.0  [{\"iso_639_1\": \"en\", \"name\": \"English\"}, {\"iso...   \n",
       "4210         0      0.0  [{\"iso_639_1\": \"en\", \"name\": \"English\"}, {\"iso...   \n",
       "4295         0    114.0  [{\"iso_639_1\": \"en\", \"name\": \"English\"}, {\"iso...   \n",
       "4331         0    156.0  [{\"iso_639_1\": \"hi\", \"name\": \"\\u0939\\u093f\\u09...   \n",
       "4371    623791    170.0  [{\"iso_639_1\": \"hi\", \"name\": \"\\u0939\\u093f\\u09...   \n",
       "4512         0    115.0  [{\"iso_639_1\": \"hi\", \"name\": \"\\u0939\\u093f\\u09...   \n",
       "\n",
       "        status                                            tagline  \\\n",
       "1023  Released                                                NaN   \n",
       "2962  Released            A Love.... That Broke All Relationships   \n",
       "2971  Released  He found the girl of his dreams, he fell in lo...   \n",
       "3089  Released                                                NaN   \n",
       "3157  Released                                                NaN   \n",
       "3228  Released                                                NaN   \n",
       "3327  Released                                                NaN   \n",
       "3374  Released                                      A Love Legend   \n",
       "3543  Released                               A Generation Awakens   \n",
       "3553  Released  Goa. Paradise on Earth. But every Paradise has...   \n",
       "3645  Released  To the People...He was a Father. To his Son......   \n",
       "3722  Released      170,000 Refugees, 488 Flights, 59 Days, 1 Man   \n",
       "4166  Released                       India's First 3D Dance movie   \n",
       "4198  Released                                                NaN   \n",
       "4210  Released                                                NaN   \n",
       "4295  Released  A stressed father, a bride-to-be with a secret...   \n",
       "4331  Released                Welcome to the world of sales boss!   \n",
       "4371  Released                           In Search of her brother   \n",
       "4512  Released                                                NaN   \n",
       "\n",
       "                                   title  vote_average  vote_count  \n",
       "1023                               Earth           6.6           9  \n",
       "2962              Kabhi Alvida Naa Kehna           6.1          42  \n",
       "2971                           Housefull           5.2          29  \n",
       "3089                              Krrish           5.5          46  \n",
       "3157                    Jab Tak Hai Jaan           7.3          66  \n",
       "3228             Yeh Jawaani Hai Deewani           7.2          79  \n",
       "3327                       Ta Ra Rum Pum           6.0          13  \n",
       "3374                          Veer-Zaara           7.4          64  \n",
       "3543                     Rang De Basanti           7.2          97  \n",
       "3553                       Dum Maaro Dum           5.4           7  \n",
       "3645                   Gandhi, My Father           6.0           2  \n",
       "3722                             Airlift           7.3          57  \n",
       "4166           ABCD (Any Body Can Dance)           5.6          10  \n",
       "4198                        The Lunchbox           7.3         221  \n",
       "4210                 Dil Jo Bhi Kahey...           0.0           0  \n",
       "4295                     Monsoon Wedding           6.8          57  \n",
       "4331  Rocket Singh: Salesman of the Year           7.0          27  \n",
       "4371                                Fiza           6.1           7  \n",
       "4512                   Faith Connections           4.2           3  "
      ]
     },
     "execution_count": 149,
     "metadata": {},
     "output_type": "execute_result"
    }
   ],
   "source": [
    "movies.loc[movies['original_language'] == 'hi']"
   ]
  },
  {
   "cell_type": "code",
   "execution_count": 74,
   "id": "10eaa56b",
   "metadata": {},
   "outputs": [
    {
     "data": {
      "text/html": [
       "<div>\n",
       "<style scoped>\n",
       "    .dataframe tbody tr th:only-of-type {\n",
       "        vertical-align: middle;\n",
       "    }\n",
       "\n",
       "    .dataframe tbody tr th {\n",
       "        vertical-align: top;\n",
       "    }\n",
       "\n",
       "    .dataframe thead th {\n",
       "        text-align: right;\n",
       "    }\n",
       "</style>\n",
       "<table border=\"1\" class=\"dataframe\">\n",
       "  <thead>\n",
       "    <tr style=\"text-align: right;\">\n",
       "      <th></th>\n",
       "      <th>budget</th>\n",
       "      <th>genres</th>\n",
       "      <th>homepage</th>\n",
       "      <th>id</th>\n",
       "      <th>keywords</th>\n",
       "      <th>original_language</th>\n",
       "      <th>original_title</th>\n",
       "      <th>overview</th>\n",
       "      <th>popularity</th>\n",
       "      <th>production_companies</th>\n",
       "      <th>production_countries</th>\n",
       "      <th>release_date</th>\n",
       "      <th>revenue</th>\n",
       "      <th>runtime</th>\n",
       "      <th>spoken_languages</th>\n",
       "      <th>status</th>\n",
       "      <th>tagline</th>\n",
       "      <th>title</th>\n",
       "      <th>vote_average</th>\n",
       "      <th>vote_count</th>\n",
       "    </tr>\n",
       "  </thead>\n",
       "  <tbody>\n",
       "    <tr>\n",
       "      <th>0</th>\n",
       "      <td>237000000</td>\n",
       "      <td>[{\"id\": 28, \"name\": \"Action\"}, {\"id\": 12, \"nam...</td>\n",
       "      <td>http://www.avatarmovie.com/</td>\n",
       "      <td>19995</td>\n",
       "      <td>[{\"id\": 1463, \"name\": \"culture clash\"}, {\"id\":...</td>\n",
       "      <td>en</td>\n",
       "      <td>Avatar</td>\n",
       "      <td>In the 22nd century, a paraplegic Marine is di...</td>\n",
       "      <td>150.437577</td>\n",
       "      <td>[{\"name\": \"Ingenious Film Partners\", \"id\": 289...</td>\n",
       "      <td>[{\"iso_3166_1\": \"US\", \"name\": \"United States o...</td>\n",
       "      <td>2009-12-10</td>\n",
       "      <td>2787965087</td>\n",
       "      <td>162.0</td>\n",
       "      <td>[{\"iso_639_1\": \"en\", \"name\": \"English\"}, {\"iso...</td>\n",
       "      <td>Released</td>\n",
       "      <td>Enter the World of Pandora.</td>\n",
       "      <td>Avatar</td>\n",
       "      <td>7.2</td>\n",
       "      <td>11800</td>\n",
       "    </tr>\n",
       "  </tbody>\n",
       "</table>\n",
       "</div>"
      ],
      "text/plain": [
       "      budget                                             genres  \\\n",
       "0  237000000  [{\"id\": 28, \"name\": \"Action\"}, {\"id\": 12, \"nam...   \n",
       "\n",
       "                      homepage     id  \\\n",
       "0  http://www.avatarmovie.com/  19995   \n",
       "\n",
       "                                            keywords original_language  \\\n",
       "0  [{\"id\": 1463, \"name\": \"culture clash\"}, {\"id\":...                en   \n",
       "\n",
       "  original_title                                           overview  \\\n",
       "0         Avatar  In the 22nd century, a paraplegic Marine is di...   \n",
       "\n",
       "   popularity                               production_companies  \\\n",
       "0  150.437577  [{\"name\": \"Ingenious Film Partners\", \"id\": 289...   \n",
       "\n",
       "                                production_countries release_date     revenue  \\\n",
       "0  [{\"iso_3166_1\": \"US\", \"name\": \"United States o...   2009-12-10  2787965087   \n",
       "\n",
       "   runtime                                   spoken_languages    status  \\\n",
       "0    162.0  [{\"iso_639_1\": \"en\", \"name\": \"English\"}, {\"iso...  Released   \n",
       "\n",
       "                       tagline   title  vote_average  vote_count  \n",
       "0  Enter the World of Pandora.  Avatar           7.2       11800  "
      ]
     },
     "execution_count": 74,
     "metadata": {},
     "output_type": "execute_result"
    }
   ],
   "source": [
    "movies.head(1)"
   ]
  },
  {
   "cell_type": "code",
   "execution_count": 75,
   "id": "908fde5f",
   "metadata": {},
   "outputs": [
    {
     "data": {
      "text/plain": [
       "array(['[{\"cast_id\": 242, \"character\": \"Jake Sully\", \"credit_id\": \"5602a8a7c3a3685532001c9a\", \"gender\": 2, \"id\": 65731, \"name\": \"Sam Worthington\", \"order\": 0}, {\"cast_id\": 3, \"character\": \"Neytiri\", \"credit_id\": \"52fe48009251416c750ac9cb\", \"gender\": 1, \"id\": 8691, \"name\": \"Zoe Saldana\", \"order\": 1}, {\"cast_id\": 25, \"character\": \"Dr. Grace Augustine\", \"credit_id\": \"52fe48009251416c750aca39\", \"gender\": 1, \"id\": 10205, \"name\": \"Sigourney Weaver\", \"order\": 2}, {\"cast_id\": 4, \"character\": \"Col. Quaritch\", \"credit_id\": \"52fe48009251416c750ac9cf\", \"gender\": 2, \"id\": 32747, \"name\": \"Stephen Lang\", \"order\": 3}, {\"cast_id\": 5, \"character\": \"Trudy Chacon\", \"credit_id\": \"52fe48009251416c750ac9d3\", \"gender\": 1, \"id\": 17647, \"name\": \"Michelle Rodriguez\", \"order\": 4}, {\"cast_id\": 8, \"character\": \"Selfridge\", \"credit_id\": \"52fe48009251416c750ac9e1\", \"gender\": 2, \"id\": 1771, \"name\": \"Giovanni Ribisi\", \"order\": 5}, {\"cast_id\": 7, \"character\": \"Norm Spellman\", \"credit_id\": \"52fe48009251416c750ac9dd\", \"gender\": 2, \"id\": 59231, \"name\": \"Joel David Moore\", \"order\": 6}, {\"cast_id\": 9, \"character\": \"Moat\", \"credit_id\": \"52fe48009251416c750ac9e5\", \"gender\": 1, \"id\": 30485, \"name\": \"CCH Pounder\", \"order\": 7}, {\"cast_id\": 11, \"character\": \"Eytukan\", \"credit_id\": \"52fe48009251416c750ac9ed\", \"gender\": 2, \"id\": 15853, \"name\": \"Wes Studi\", \"order\": 8}, {\"cast_id\": 10, \"character\": \"Tsu\\'Tey\", \"credit_id\": \"52fe48009251416c750ac9e9\", \"gender\": 2, \"id\": 10964, \"name\": \"Laz Alonso\", \"order\": 9}, {\"cast_id\": 12, \"character\": \"Dr. Max Patel\", \"credit_id\": \"52fe48009251416c750ac9f1\", \"gender\": 2, \"id\": 95697, \"name\": \"Dileep Rao\", \"order\": 10}, {\"cast_id\": 13, \"character\": \"Lyle Wainfleet\", \"credit_id\": \"52fe48009251416c750ac9f5\", \"gender\": 2, \"id\": 98215, \"name\": \"Matt Gerald\", \"order\": 11}, {\"cast_id\": 32, \"character\": \"Private Fike\", \"credit_id\": \"52fe48009251416c750aca5b\", \"gender\": 2, \"id\": 154153, \"name\": \"Sean Anthony Moran\", \"order\": 12}, {\"cast_id\": 33, \"character\": \"Cryo Vault Med Tech\", \"credit_id\": \"52fe48009251416c750aca5f\", \"gender\": 2, \"id\": 397312, \"name\": \"Jason Whyte\", \"order\": 13}, {\"cast_id\": 34, \"character\": \"Venture Star Crew Chief\", \"credit_id\": \"52fe48009251416c750aca63\", \"gender\": 2, \"id\": 42317, \"name\": \"Scott Lawrence\", \"order\": 14}, {\"cast_id\": 35, \"character\": \"Lock Up Trooper\", \"credit_id\": \"52fe48009251416c750aca67\", \"gender\": 2, \"id\": 986734, \"name\": \"Kelly Kilgour\", \"order\": 15}, {\"cast_id\": 36, \"character\": \"Shuttle Pilot\", \"credit_id\": \"52fe48009251416c750aca6b\", \"gender\": 0, \"id\": 1207227, \"name\": \"James Patrick Pitt\", \"order\": 16}, {\"cast_id\": 37, \"character\": \"Shuttle Co-Pilot\", \"credit_id\": \"52fe48009251416c750aca6f\", \"gender\": 0, \"id\": 1180936, \"name\": \"Sean Patrick Murphy\", \"order\": 17}, {\"cast_id\": 38, \"character\": \"Shuttle Crew Chief\", \"credit_id\": \"52fe48009251416c750aca73\", \"gender\": 2, \"id\": 1019578, \"name\": \"Peter Dillon\", \"order\": 18}, {\"cast_id\": 39, \"character\": \"Tractor Operator / Troupe\", \"credit_id\": \"52fe48009251416c750aca77\", \"gender\": 0, \"id\": 91443, \"name\": \"Kevin Dorman\", \"order\": 19}, {\"cast_id\": 40, \"character\": \"Dragon Gunship Pilot\", \"credit_id\": \"52fe48009251416c750aca7b\", \"gender\": 2, \"id\": 173391, \"name\": \"Kelson Henderson\", \"order\": 20}, {\"cast_id\": 41, \"character\": \"Dragon Gunship Gunner\", \"credit_id\": \"52fe48009251416c750aca7f\", \"gender\": 0, \"id\": 1207236, \"name\": \"David Van Horn\", \"order\": 21}, {\"cast_id\": 42, \"character\": \"Dragon Gunship Navigator\", \"credit_id\": \"52fe48009251416c750aca83\", \"gender\": 0, \"id\": 215913, \"name\": \"Jacob Tomuri\", \"order\": 22}, {\"cast_id\": 43, \"character\": \"Suit #1\", \"credit_id\": \"52fe48009251416c750aca87\", \"gender\": 0, \"id\": 143206, \"name\": \"Michael Blain-Rozgay\", \"order\": 23}, {\"cast_id\": 44, \"character\": \"Suit #2\", \"credit_id\": \"52fe48009251416c750aca8b\", \"gender\": 2, \"id\": 169676, \"name\": \"Jon Curry\", \"order\": 24}, {\"cast_id\": 46, \"character\": \"Ambient Room Tech\", \"credit_id\": \"52fe48009251416c750aca8f\", \"gender\": 0, \"id\": 1048610, \"name\": \"Luke Hawker\", \"order\": 25}, {\"cast_id\": 47, \"character\": \"Ambient Room Tech / Troupe\", \"credit_id\": \"52fe48009251416c750aca93\", \"gender\": 0, \"id\": 42288, \"name\": \"Woody Schultz\", \"order\": 26}, {\"cast_id\": 48, \"character\": \"Horse Clan Leader\", \"credit_id\": \"52fe48009251416c750aca97\", \"gender\": 2, \"id\": 68278, \"name\": \"Peter Mensah\", \"order\": 27}, {\"cast_id\": 49, \"character\": \"Link Room Tech\", \"credit_id\": \"52fe48009251416c750aca9b\", \"gender\": 0, \"id\": 1207247, \"name\": \"Sonia Yee\", \"order\": 28}, {\"cast_id\": 50, \"character\": \"Basketball Avatar / Troupe\", \"credit_id\": \"52fe48009251416c750aca9f\", \"gender\": 1, \"id\": 1207248, \"name\": \"Jahnel Curfman\", \"order\": 29}, {\"cast_id\": 51, \"character\": \"Basketball Avatar\", \"credit_id\": \"52fe48009251416c750acaa3\", \"gender\": 0, \"id\": 89714, \"name\": \"Ilram Choi\", \"order\": 30}, {\"cast_id\": 52, \"character\": \"Na\\'vi Child\", \"credit_id\": \"52fe48009251416c750acaa7\", \"gender\": 0, \"id\": 1207249, \"name\": \"Kyla Warren\", \"order\": 31}, {\"cast_id\": 53, \"character\": \"Troupe\", \"credit_id\": \"52fe48009251416c750acaab\", \"gender\": 0, \"id\": 1207250, \"name\": \"Lisa Roumain\", \"order\": 32}, {\"cast_id\": 54, \"character\": \"Troupe\", \"credit_id\": \"52fe48009251416c750acaaf\", \"gender\": 1, \"id\": 83105, \"name\": \"Debra Wilson\", \"order\": 33}, {\"cast_id\": 57, \"character\": \"Troupe\", \"credit_id\": \"52fe48009251416c750acabb\", \"gender\": 0, \"id\": 1207253, \"name\": \"Chris Mala\", \"order\": 34}, {\"cast_id\": 55, \"character\": \"Troupe\", \"credit_id\": \"52fe48009251416c750acab3\", \"gender\": 0, \"id\": 1207251, \"name\": \"Taylor Kibby\", \"order\": 35}, {\"cast_id\": 56, \"character\": \"Troupe\", \"credit_id\": \"52fe48009251416c750acab7\", \"gender\": 0, \"id\": 1207252, \"name\": \"Jodie Landau\", \"order\": 36}, {\"cast_id\": 58, \"character\": \"Troupe\", \"credit_id\": \"52fe48009251416c750acabf\", \"gender\": 0, \"id\": 1207254, \"name\": \"Julie Lamm\", \"order\": 37}, {\"cast_id\": 59, \"character\": \"Troupe\", \"credit_id\": \"52fe48009251416c750acac3\", \"gender\": 0, \"id\": 1207257, \"name\": \"Cullen B. Madden\", \"order\": 38}, {\"cast_id\": 60, \"character\": \"Troupe\", \"credit_id\": \"52fe48009251416c750acac7\", \"gender\": 0, \"id\": 1207259, \"name\": \"Joseph Brady Madden\", \"order\": 39}, {\"cast_id\": 61, \"character\": \"Troupe\", \"credit_id\": \"52fe48009251416c750acacb\", \"gender\": 0, \"id\": 1207262, \"name\": \"Frankie Torres\", \"order\": 40}, {\"cast_id\": 62, \"character\": \"Troupe\", \"credit_id\": \"52fe48009251416c750acacf\", \"gender\": 1, \"id\": 1158600, \"name\": \"Austin Wilson\", \"order\": 41}, {\"cast_id\": 63, \"character\": \"Troupe\", \"credit_id\": \"52fe48019251416c750acad3\", \"gender\": 1, \"id\": 983705, \"name\": \"Sara Wilson\", \"order\": 42}, {\"cast_id\": 64, \"character\": \"Troupe\", \"credit_id\": \"52fe48019251416c750acad7\", \"gender\": 0, \"id\": 1207263, \"name\": \"Tamica Washington-Miller\", \"order\": 43}, {\"cast_id\": 65, \"character\": \"Op Center Staff\", \"credit_id\": \"52fe48019251416c750acadb\", \"gender\": 1, \"id\": 1145098, \"name\": \"Lucy Briant\", \"order\": 44}, {\"cast_id\": 66, \"character\": \"Op Center Staff\", \"credit_id\": \"52fe48019251416c750acadf\", \"gender\": 2, \"id\": 33305, \"name\": \"Nathan Meister\", \"order\": 45}, {\"cast_id\": 67, \"character\": \"Op Center Staff\", \"credit_id\": \"52fe48019251416c750acae3\", \"gender\": 0, \"id\": 1207264, \"name\": \"Gerry Blair\", \"order\": 46}, {\"cast_id\": 68, \"character\": \"Op Center Staff\", \"credit_id\": \"52fe48019251416c750acae7\", \"gender\": 2, \"id\": 33311, \"name\": \"Matthew Chamberlain\", \"order\": 47}, {\"cast_id\": 69, \"character\": \"Op Center Staff\", \"credit_id\": \"52fe48019251416c750acaeb\", \"gender\": 0, \"id\": 1207265, \"name\": \"Paul Yates\", \"order\": 48}, {\"cast_id\": 70, \"character\": \"Op Center Duty Officer\", \"credit_id\": \"52fe48019251416c750acaef\", \"gender\": 0, \"id\": 1207266, \"name\": \"Wray Wilson\", \"order\": 49}, {\"cast_id\": 71, \"character\": \"Op Center Staff\", \"credit_id\": \"52fe48019251416c750acaf3\", \"gender\": 2, \"id\": 54492, \"name\": \"James Gaylyn\", \"order\": 50}, {\"cast_id\": 72, \"character\": \"Dancer\", \"credit_id\": \"52fe48019251416c750acaf7\", \"gender\": 0, \"id\": 1207267, \"name\": \"Melvin Leno Clark III\", \"order\": 51}, {\"cast_id\": 73, \"character\": \"Dancer\", \"credit_id\": \"52fe48019251416c750acafb\", \"gender\": 0, \"id\": 1207268, \"name\": \"Carvon Futrell\", \"order\": 52}, {\"cast_id\": 74, \"character\": \"Dancer\", \"credit_id\": \"52fe48019251416c750acaff\", \"gender\": 0, \"id\": 1207269, \"name\": \"Brandon Jelkes\", \"order\": 53}, {\"cast_id\": 75, \"character\": \"Dancer\", \"credit_id\": \"52fe48019251416c750acb03\", \"gender\": 0, \"id\": 1207270, \"name\": \"Micah Moch\", \"order\": 54}, {\"cast_id\": 76, \"character\": \"Dancer\", \"credit_id\": \"52fe48019251416c750acb07\", \"gender\": 0, \"id\": 1207271, \"name\": \"Hanniyah Muhammad\", \"order\": 55}, {\"cast_id\": 77, \"character\": \"Dancer\", \"credit_id\": \"52fe48019251416c750acb0b\", \"gender\": 0, \"id\": 1207272, \"name\": \"Christopher Nolen\", \"order\": 56}, {\"cast_id\": 78, \"character\": \"Dancer\", \"credit_id\": \"52fe48019251416c750acb0f\", \"gender\": 0, \"id\": 1207273, \"name\": \"Christa Oliver\", \"order\": 57}, {\"cast_id\": 79, \"character\": \"Dancer\", \"credit_id\": \"52fe48019251416c750acb13\", \"gender\": 0, \"id\": 1207274, \"name\": \"April Marie Thomas\", \"order\": 58}, {\"cast_id\": 80, \"character\": \"Dancer\", \"credit_id\": \"52fe48019251416c750acb17\", \"gender\": 0, \"id\": 1207275, \"name\": \"Bravita A. Threatt\", \"order\": 59}, {\"cast_id\": 81, \"character\": \"Mining Chief (uncredited)\", \"credit_id\": \"52fe48019251416c750acb1b\", \"gender\": 0, \"id\": 1207276, \"name\": \"Colin Bleasdale\", \"order\": 60}, {\"cast_id\": 82, \"character\": \"Veteran Miner (uncredited)\", \"credit_id\": \"52fe48019251416c750acb1f\", \"gender\": 0, \"id\": 107969, \"name\": \"Mike Bodnar\", \"order\": 61}, {\"cast_id\": 83, \"character\": \"Richard (uncredited)\", \"credit_id\": \"52fe48019251416c750acb23\", \"gender\": 0, \"id\": 1207278, \"name\": \"Matt Clayton\", \"order\": 62}, {\"cast_id\": 84, \"character\": \"Nav\\'i (uncredited)\", \"credit_id\": \"52fe48019251416c750acb27\", \"gender\": 1, \"id\": 147898, \"name\": \"Nicole Dionne\", \"order\": 63}, {\"cast_id\": 85, \"character\": \"Trooper (uncredited)\", \"credit_id\": \"52fe48019251416c750acb2b\", \"gender\": 0, \"id\": 1207280, \"name\": \"Jamie Harrison\", \"order\": 64}, {\"cast_id\": 86, \"character\": \"Trooper (uncredited)\", \"credit_id\": \"52fe48019251416c750acb2f\", \"gender\": 0, \"id\": 1207281, \"name\": \"Allan Henry\", \"order\": 65}, {\"cast_id\": 87, \"character\": \"Ground Technician (uncredited)\", \"credit_id\": \"52fe48019251416c750acb33\", \"gender\": 2, \"id\": 1207282, \"name\": \"Anthony Ingruber\", \"order\": 66}, {\"cast_id\": 88, \"character\": \"Flight Crew Mechanic (uncredited)\", \"credit_id\": \"52fe48019251416c750acb37\", \"gender\": 0, \"id\": 1207283, \"name\": \"Ashley Jeffery\", \"order\": 67}, {\"cast_id\": 14, \"character\": \"Samson Pilot\", \"credit_id\": \"52fe48009251416c750ac9f9\", \"gender\": 0, \"id\": 98216, \"name\": \"Dean Knowsley\", \"order\": 68}, {\"cast_id\": 89, \"character\": \"Trooper (uncredited)\", \"credit_id\": \"52fe48019251416c750acb3b\", \"gender\": 0, \"id\": 1201399, \"name\": \"Joseph Mika-Hunt\", \"order\": 69}, {\"cast_id\": 90, \"character\": \"Banshee (uncredited)\", \"credit_id\": \"52fe48019251416c750acb3f\", \"gender\": 0, \"id\": 236696, \"name\": \"Terry Notary\", \"order\": 70}, {\"cast_id\": 91, \"character\": \"Soldier (uncredited)\", \"credit_id\": \"52fe48019251416c750acb43\", \"gender\": 0, \"id\": 1207287, \"name\": \"Kai Pantano\", \"order\": 71}, {\"cast_id\": 92, \"character\": \"Blast Technician (uncredited)\", \"credit_id\": \"52fe48019251416c750acb47\", \"gender\": 0, \"id\": 1207288, \"name\": \"Logan Pithyou\", \"order\": 72}, {\"cast_id\": 93, \"character\": \"Vindum Raah (uncredited)\", \"credit_id\": \"52fe48019251416c750acb4b\", \"gender\": 0, \"id\": 1207289, \"name\": \"Stuart Pollock\", \"order\": 73}, {\"cast_id\": 94, \"character\": \"Hero (uncredited)\", \"credit_id\": \"52fe48019251416c750acb4f\", \"gender\": 0, \"id\": 584868, \"name\": \"Raja\", \"order\": 74}, {\"cast_id\": 95, \"character\": \"Ops Centreworker (uncredited)\", \"credit_id\": \"52fe48019251416c750acb53\", \"gender\": 0, \"id\": 1207290, \"name\": \"Gareth Ruck\", \"order\": 75}, {\"cast_id\": 96, \"character\": \"Engineer (uncredited)\", \"credit_id\": \"52fe48019251416c750acb57\", \"gender\": 0, \"id\": 1062463, \"name\": \"Rhian Sheehan\", \"order\": 76}, {\"cast_id\": 97, \"character\": \"Col. Quaritch\\'s Mech Suit (uncredited)\", \"credit_id\": \"52fe48019251416c750acb5b\", \"gender\": 0, \"id\": 60656, \"name\": \"T. J. Storm\", \"order\": 77}, {\"cast_id\": 98, \"character\": \"Female Marine (uncredited)\", \"credit_id\": \"52fe48019251416c750acb5f\", \"gender\": 0, \"id\": 1207291, \"name\": \"Jodie Taylor\", \"order\": 78}, {\"cast_id\": 99, \"character\": \"Ikran Clan Leader (uncredited)\", \"credit_id\": \"52fe48019251416c750acb63\", \"gender\": 1, \"id\": 1186027, \"name\": \"Alicia Vela-Bailey\", \"order\": 79}, {\"cast_id\": 100, \"character\": \"Geologist (uncredited)\", \"credit_id\": \"52fe48019251416c750acb67\", \"gender\": 0, \"id\": 1207292, \"name\": \"Richard Whiteside\", \"order\": 80}, {\"cast_id\": 101, \"character\": \"Na\\'vi (uncredited)\", \"credit_id\": \"52fe48019251416c750acb6b\", \"gender\": 0, \"id\": 103259, \"name\": \"Nikie Zambo\", \"order\": 81}, {\"cast_id\": 102, \"character\": \"Ambient Room Tech / Troupe\", \"credit_id\": \"52fe48019251416c750acb6f\", \"gender\": 1, \"id\": 42286, \"name\": \"Julene Renee\", \"order\": 82}]'],\n",
       "      dtype=object)"
      ]
     },
     "execution_count": 75,
     "metadata": {},
     "output_type": "execute_result"
    }
   ],
   "source": [
    "credits.head(1)['cast'].values"
   ]
  },
  {
   "cell_type": "markdown",
   "id": "4aafbacf",
   "metadata": {},
   "source": [
    "# merging two dataframes"
   ]
  },
  {
   "cell_type": "code",
   "execution_count": 76,
   "id": "27b89c1b",
   "metadata": {},
   "outputs": [],
   "source": [
    "movies = movies.merge(credits,on='title')"
   ]
  },
  {
   "cell_type": "code",
   "execution_count": 77,
   "id": "5dd26a1f",
   "metadata": {},
   "outputs": [
    {
     "data": {
      "text/plain": [
       "(4809, 23)"
      ]
     },
     "execution_count": 77,
     "metadata": {},
     "output_type": "execute_result"
    }
   ],
   "source": [
    "movies.shape"
   ]
  },
  {
   "cell_type": "code",
   "execution_count": 78,
   "id": "b09ae5dd",
   "metadata": {},
   "outputs": [
    {
     "data": {
      "text/plain": [
       "budget                                                           15000000\n",
       "genres                                      [{\"id\": 18, \"name\": \"Drama\"}]\n",
       "homepage                                                              NaN\n",
       "id                                                                 370980\n",
       "keywords                [{\"id\": 717, \"name\": \"pope\"}, {\"id\": 5565, \"na...\n",
       "original_language                                                      it\n",
       "original_title                 Chiamatemi Francesco - Il Papa della gente\n",
       "overview                                                              NaN\n",
       "popularity                                                       0.738646\n",
       "production_companies               [{\"name\": \"Taodue Film\", \"id\": 45724}]\n",
       "production_countries              [{\"iso_3166_1\": \"IT\", \"name\": \"Italy\"}]\n",
       "release_date                                                   2015-12-03\n",
       "revenue                                                                 0\n",
       "runtime                                                               NaN\n",
       "spoken_languages            [{\"iso_639_1\": \"es\", \"name\": \"Espa\\u00f1ol\"}]\n",
       "status                                                           Released\n",
       "tagline                                                               NaN\n",
       "title                          Chiamatemi Francesco - Il Papa della gente\n",
       "vote_average                                                          7.3\n",
       "vote_count                                                             12\n",
       "movie_id                                                           370980\n",
       "cast                    [{\"cast_id\": 5, \"character\": \"Jorge Mario Berg...\n",
       "crew                    [{\"credit_id\": \"5660019ac3a36875f100252b\", \"de...\n",
       "Name: 2662, dtype: object"
      ]
     },
     "execution_count": 78,
     "metadata": {},
     "output_type": "execute_result"
    }
   ],
   "source": [
    "movies.iloc[2662]"
   ]
  },
  {
   "cell_type": "markdown",
   "id": "f410fa4a",
   "metadata": {},
   "source": [
    "# removing unnecessary columns"
   ]
  },
  {
   "cell_type": "code",
   "execution_count": 79,
   "id": "8a442370",
   "metadata": {},
   "outputs": [
    {
     "name": "stdout",
     "output_type": "stream",
     "text": [
      "<class 'pandas.core.frame.DataFrame'>\n",
      "Int64Index: 4809 entries, 0 to 4808\n",
      "Data columns (total 23 columns):\n",
      " #   Column                Non-Null Count  Dtype  \n",
      "---  ------                --------------  -----  \n",
      " 0   budget                4809 non-null   int64  \n",
      " 1   genres                4809 non-null   object \n",
      " 2   homepage              1713 non-null   object \n",
      " 3   id                    4809 non-null   int64  \n",
      " 4   keywords              4809 non-null   object \n",
      " 5   original_language     4809 non-null   object \n",
      " 6   original_title        4809 non-null   object \n",
      " 7   overview              4806 non-null   object \n",
      " 8   popularity            4809 non-null   float64\n",
      " 9   production_companies  4809 non-null   object \n",
      " 10  production_countries  4809 non-null   object \n",
      " 11  release_date          4808 non-null   object \n",
      " 12  revenue               4809 non-null   int64  \n",
      " 13  runtime               4807 non-null   float64\n",
      " 14  spoken_languages      4809 non-null   object \n",
      " 15  status                4809 non-null   object \n",
      " 16  tagline               3965 non-null   object \n",
      " 17  title                 4809 non-null   object \n",
      " 18  vote_average          4809 non-null   float64\n",
      " 19  vote_count            4809 non-null   int64  \n",
      " 20  movie_id              4809 non-null   int64  \n",
      " 21  cast                  4809 non-null   object \n",
      " 22  crew                  4809 non-null   object \n",
      "dtypes: float64(3), int64(5), object(15)\n",
      "memory usage: 901.7+ KB\n"
     ]
    }
   ],
   "source": [
    "movies.info()"
   ]
  },
  {
   "cell_type": "code",
   "execution_count": 80,
   "id": "912690d3",
   "metadata": {},
   "outputs": [],
   "source": [
    "#list of important columns\n",
    "#genres\n",
    "#movie_id\n",
    "#keywords\n",
    "#title\n",
    "#overview(won't keep tagline bcoz already overview is there)\n",
    "#cast\n",
    "#crew"
   ]
  },
  {
   "cell_type": "code",
   "execution_count": 81,
   "id": "83e332c1",
   "metadata": {},
   "outputs": [],
   "source": [
    "movies = movies[['movie_id','title','overview','genres','keywords','cast','crew']]"
   ]
  },
  {
   "cell_type": "code",
   "execution_count": 82,
   "id": "debd221b",
   "metadata": {},
   "outputs": [
    {
     "data": {
      "text/html": [
       "<div>\n",
       "<style scoped>\n",
       "    .dataframe tbody tr th:only-of-type {\n",
       "        vertical-align: middle;\n",
       "    }\n",
       "\n",
       "    .dataframe tbody tr th {\n",
       "        vertical-align: top;\n",
       "    }\n",
       "\n",
       "    .dataframe thead th {\n",
       "        text-align: right;\n",
       "    }\n",
       "</style>\n",
       "<table border=\"1\" class=\"dataframe\">\n",
       "  <thead>\n",
       "    <tr style=\"text-align: right;\">\n",
       "      <th></th>\n",
       "      <th>movie_id</th>\n",
       "      <th>title</th>\n",
       "      <th>overview</th>\n",
       "      <th>genres</th>\n",
       "      <th>keywords</th>\n",
       "      <th>cast</th>\n",
       "      <th>crew</th>\n",
       "    </tr>\n",
       "  </thead>\n",
       "  <tbody>\n",
       "    <tr>\n",
       "      <th>0</th>\n",
       "      <td>19995</td>\n",
       "      <td>Avatar</td>\n",
       "      <td>In the 22nd century, a paraplegic Marine is di...</td>\n",
       "      <td>[{\"id\": 28, \"name\": \"Action\"}, {\"id\": 12, \"nam...</td>\n",
       "      <td>[{\"id\": 1463, \"name\": \"culture clash\"}, {\"id\":...</td>\n",
       "      <td>[{\"cast_id\": 242, \"character\": \"Jake Sully\", \"...</td>\n",
       "      <td>[{\"credit_id\": \"52fe48009251416c750aca23\", \"de...</td>\n",
       "    </tr>\n",
       "    <tr>\n",
       "      <th>1</th>\n",
       "      <td>285</td>\n",
       "      <td>Pirates of the Caribbean: At World's End</td>\n",
       "      <td>Captain Barbossa, long believed to be dead, ha...</td>\n",
       "      <td>[{\"id\": 12, \"name\": \"Adventure\"}, {\"id\": 14, \"...</td>\n",
       "      <td>[{\"id\": 270, \"name\": \"ocean\"}, {\"id\": 726, \"na...</td>\n",
       "      <td>[{\"cast_id\": 4, \"character\": \"Captain Jack Spa...</td>\n",
       "      <td>[{\"credit_id\": \"52fe4232c3a36847f800b579\", \"de...</td>\n",
       "    </tr>\n",
       "    <tr>\n",
       "      <th>2</th>\n",
       "      <td>206647</td>\n",
       "      <td>Spectre</td>\n",
       "      <td>A cryptic message from Bond’s past sends him o...</td>\n",
       "      <td>[{\"id\": 28, \"name\": \"Action\"}, {\"id\": 12, \"nam...</td>\n",
       "      <td>[{\"id\": 470, \"name\": \"spy\"}, {\"id\": 818, \"name...</td>\n",
       "      <td>[{\"cast_id\": 1, \"character\": \"James Bond\", \"cr...</td>\n",
       "      <td>[{\"credit_id\": \"54805967c3a36829b5002c41\", \"de...</td>\n",
       "    </tr>\n",
       "    <tr>\n",
       "      <th>3</th>\n",
       "      <td>49026</td>\n",
       "      <td>The Dark Knight Rises</td>\n",
       "      <td>Following the death of District Attorney Harve...</td>\n",
       "      <td>[{\"id\": 28, \"name\": \"Action\"}, {\"id\": 80, \"nam...</td>\n",
       "      <td>[{\"id\": 849, \"name\": \"dc comics\"}, {\"id\": 853,...</td>\n",
       "      <td>[{\"cast_id\": 2, \"character\": \"Bruce Wayne / Ba...</td>\n",
       "      <td>[{\"credit_id\": \"52fe4781c3a36847f81398c3\", \"de...</td>\n",
       "    </tr>\n",
       "    <tr>\n",
       "      <th>4</th>\n",
       "      <td>49529</td>\n",
       "      <td>John Carter</td>\n",
       "      <td>John Carter is a war-weary, former military ca...</td>\n",
       "      <td>[{\"id\": 28, \"name\": \"Action\"}, {\"id\": 12, \"nam...</td>\n",
       "      <td>[{\"id\": 818, \"name\": \"based on novel\"}, {\"id\":...</td>\n",
       "      <td>[{\"cast_id\": 5, \"character\": \"John Carter\", \"c...</td>\n",
       "      <td>[{\"credit_id\": \"52fe479ac3a36847f813eaa3\", \"de...</td>\n",
       "    </tr>\n",
       "  </tbody>\n",
       "</table>\n",
       "</div>"
      ],
      "text/plain": [
       "   movie_id                                     title  \\\n",
       "0     19995                                    Avatar   \n",
       "1       285  Pirates of the Caribbean: At World's End   \n",
       "2    206647                                   Spectre   \n",
       "3     49026                     The Dark Knight Rises   \n",
       "4     49529                               John Carter   \n",
       "\n",
       "                                            overview  \\\n",
       "0  In the 22nd century, a paraplegic Marine is di...   \n",
       "1  Captain Barbossa, long believed to be dead, ha...   \n",
       "2  A cryptic message from Bond’s past sends him o...   \n",
       "3  Following the death of District Attorney Harve...   \n",
       "4  John Carter is a war-weary, former military ca...   \n",
       "\n",
       "                                              genres  \\\n",
       "0  [{\"id\": 28, \"name\": \"Action\"}, {\"id\": 12, \"nam...   \n",
       "1  [{\"id\": 12, \"name\": \"Adventure\"}, {\"id\": 14, \"...   \n",
       "2  [{\"id\": 28, \"name\": \"Action\"}, {\"id\": 12, \"nam...   \n",
       "3  [{\"id\": 28, \"name\": \"Action\"}, {\"id\": 80, \"nam...   \n",
       "4  [{\"id\": 28, \"name\": \"Action\"}, {\"id\": 12, \"nam...   \n",
       "\n",
       "                                            keywords  \\\n",
       "0  [{\"id\": 1463, \"name\": \"culture clash\"}, {\"id\":...   \n",
       "1  [{\"id\": 270, \"name\": \"ocean\"}, {\"id\": 726, \"na...   \n",
       "2  [{\"id\": 470, \"name\": \"spy\"}, {\"id\": 818, \"name...   \n",
       "3  [{\"id\": 849, \"name\": \"dc comics\"}, {\"id\": 853,...   \n",
       "4  [{\"id\": 818, \"name\": \"based on novel\"}, {\"id\":...   \n",
       "\n",
       "                                                cast  \\\n",
       "0  [{\"cast_id\": 242, \"character\": \"Jake Sully\", \"...   \n",
       "1  [{\"cast_id\": 4, \"character\": \"Captain Jack Spa...   \n",
       "2  [{\"cast_id\": 1, \"character\": \"James Bond\", \"cr...   \n",
       "3  [{\"cast_id\": 2, \"character\": \"Bruce Wayne / Ba...   \n",
       "4  [{\"cast_id\": 5, \"character\": \"John Carter\", \"c...   \n",
       "\n",
       "                                                crew  \n",
       "0  [{\"credit_id\": \"52fe48009251416c750aca23\", \"de...  \n",
       "1  [{\"credit_id\": \"52fe4232c3a36847f800b579\", \"de...  \n",
       "2  [{\"credit_id\": \"54805967c3a36829b5002c41\", \"de...  \n",
       "3  [{\"credit_id\": \"52fe4781c3a36847f81398c3\", \"de...  \n",
       "4  [{\"credit_id\": \"52fe479ac3a36847f813eaa3\", \"de...  "
      ]
     },
     "execution_count": 82,
     "metadata": {},
     "output_type": "execute_result"
    }
   ],
   "source": [
    "movies.head()"
   ]
  },
  {
   "cell_type": "markdown",
   "id": "cff57cd7",
   "metadata": {},
   "source": [
    "## data preprocessing"
   ]
  },
  {
   "cell_type": "code",
   "execution_count": 83,
   "id": "90135cd8",
   "metadata": {},
   "outputs": [],
   "source": [
    "#checking null rows"
   ]
  },
  {
   "cell_type": "code",
   "execution_count": 84,
   "id": "4f5f41c8",
   "metadata": {},
   "outputs": [
    {
     "data": {
      "text/plain": [
       "movie_id    0\n",
       "title       0\n",
       "overview    3\n",
       "genres      0\n",
       "keywords    0\n",
       "cast        0\n",
       "crew        0\n",
       "dtype: int64"
      ]
     },
     "execution_count": 84,
     "metadata": {},
     "output_type": "execute_result"
    }
   ],
   "source": [
    "movies.isnull().sum()"
   ]
  },
  {
   "cell_type": "code",
   "execution_count": 85,
   "id": "1be2b865",
   "metadata": {},
   "outputs": [],
   "source": [
    "movies.dropna(inplace=True)"
   ]
  },
  {
   "cell_type": "code",
   "execution_count": 86,
   "id": "62a5fb2d",
   "metadata": {},
   "outputs": [],
   "source": [
    "movies = movies.reset_index()"
   ]
  },
  {
   "cell_type": "code",
   "execution_count": 87,
   "id": "05b23b57",
   "metadata": {},
   "outputs": [],
   "source": [
    "#checking duplicate data"
   ]
  },
  {
   "cell_type": "code",
   "execution_count": 88,
   "id": "16369060",
   "metadata": {},
   "outputs": [
    {
     "data": {
      "text/plain": [
       "0"
      ]
     },
     "execution_count": 88,
     "metadata": {},
     "output_type": "execute_result"
    }
   ],
   "source": [
    "movies.duplicated().sum()"
   ]
  },
  {
   "cell_type": "code",
   "execution_count": 89,
   "id": "557c05b8",
   "metadata": {},
   "outputs": [],
   "source": [
    "# we need only three columns movie_id,title,tags\n",
    "#so we need to merge all other colums (overview,genre,keyword,cast(main actors only),crew(director only) in one column)\n",
    "#for this we need to bring them in proper format"
   ]
  },
  {
   "cell_type": "code",
   "execution_count": 90,
   "id": "fad297b7",
   "metadata": {},
   "outputs": [
    {
     "data": {
      "text/plain": [
       "'[{\"id\": 28, \"name\": \"Action\"}, {\"id\": 12, \"name\": \"Adventure\"}, {\"id\": 14, \"name\": \"Fantasy\"}, {\"id\": 878, \"name\": \"Science Fiction\"}]'"
      ]
     },
     "execution_count": 90,
     "metadata": {},
     "output_type": "execute_result"
    }
   ],
   "source": [
    "movies.iloc[0].genres"
   ]
  },
  {
   "cell_type": "code",
   "execution_count": 91,
   "id": "ab461b21",
   "metadata": {},
   "outputs": [],
   "source": [
    "#[{\"id\": 28, \"name\": \"Action\"}, {\"id\": 12, \"name\": \"Adventure\"}, {\"id\": 14, \"name\": \"Fantasy\"}, {\"id\": 878, \"name\": \"Science Fiction\"}]\n",
    "#the above output is in format of list of dictionaries\n",
    "#we need ['Action','Adventure','Fantasy','Science Fiction']"
   ]
  },
  {
   "cell_type": "code",
   "execution_count": 92,
   "id": "192478f9",
   "metadata": {},
   "outputs": [],
   "source": [
    "#the object we will get in this function will be a string\n",
    "#so to convert string in list ast.litera_.eval is used\n",
    "import ast\n",
    "def convert(obj):\n",
    "    L = []\n",
    "    for i in ast.literal_eval(obj):\n",
    "        L.append(i['name'])\n",
    "    return L"
   ]
  },
  {
   "cell_type": "code",
   "execution_count": 93,
   "id": "f5c16574",
   "metadata": {},
   "outputs": [],
   "source": [
    "movies['genres'] = movies['genres'].apply(convert)"
   ]
  },
  {
   "cell_type": "code",
   "execution_count": 94,
   "id": "c17b33cc",
   "metadata": {},
   "outputs": [],
   "source": [
    "movies['keywords'] = movies['keywords'].apply(convert)"
   ]
  },
  {
   "cell_type": "code",
   "execution_count": 95,
   "id": "b1dc1acb",
   "metadata": {},
   "outputs": [],
   "source": [
    "#for cast column we will consider first three dictionaries only hat is first three actors\n",
    "#and from each dictionary value name i s what we need"
   ]
  },
  {
   "cell_type": "code",
   "execution_count": 96,
   "id": "1fc0943b",
   "metadata": {},
   "outputs": [],
   "source": [
    "def convert3(obj):\n",
    "    L = []\n",
    "    cnt = 0\n",
    "    for i in ast.literal_eval(obj):\n",
    "        if cnt != 3:\n",
    "            L.append(i['name'])\n",
    "            cnt+=1\n",
    "        else:\n",
    "            break\n",
    "    return L"
   ]
  },
  {
   "cell_type": "code",
   "execution_count": 97,
   "id": "33ca3a8e",
   "metadata": {},
   "outputs": [],
   "source": [
    "movies['cast'] = movies['cast'].apply(convert3)"
   ]
  },
  {
   "cell_type": "code",
   "execution_count": 98,
   "id": "1fcabd6f",
   "metadata": {},
   "outputs": [],
   "source": [
    "#for crew column we need dictionary where job is director"
   ]
  },
  {
   "cell_type": "code",
   "execution_count": 99,
   "id": "24a66a67",
   "metadata": {},
   "outputs": [],
   "source": [
    "def fetch_director(obj):\n",
    "    L = []\n",
    "    for i in ast.literal_eval(obj):\n",
    "        if i['job'] == 'Director':\n",
    "            L.append(i['name'])\n",
    "            break\n",
    "    return L"
   ]
  },
  {
   "cell_type": "code",
   "execution_count": 100,
   "id": "25e18b34",
   "metadata": {},
   "outputs": [],
   "source": [
    "movies['crew'] = movies['crew'].apply(fetch_director)"
   ]
  },
  {
   "cell_type": "code",
   "execution_count": 101,
   "id": "30ff6c22",
   "metadata": {},
   "outputs": [],
   "source": [
    "#overview is in string format so need to convert it into list"
   ]
  },
  {
   "cell_type": "code",
   "execution_count": 102,
   "id": "cc3c751b",
   "metadata": {},
   "outputs": [],
   "source": [
    "movies['overview'] = movies['overview'].apply(lambda x:x.split())"
   ]
  },
  {
   "cell_type": "code",
   "execution_count": 103,
   "id": "4642ef2e",
   "metadata": {},
   "outputs": [],
   "source": [
    "#need to remove sapce from cast,crew,genres and keyword\n",
    "#becausr sam abc and sam sam xyz are different but sam might \n",
    "#create confusion so it should look like samabc and samxyz\n",
    "# for eg science fiction = sciencefiction "
   ]
  },
  {
   "cell_type": "code",
   "execution_count": 104,
   "id": "c6d93d11",
   "metadata": {},
   "outputs": [],
   "source": [
    "movies['genres'] = movies['genres'].apply(lambda x:[i.replace(\" \",\"\") for i in x])\n",
    "movies['keywords'] = movies['keywords'].apply(lambda x:[i.replace(\" \",\"\") for i in x])\n",
    "movies['cast'] = movies['cast'].apply(lambda x:[i.replace(\" \",\"\") for i in x])\n",
    "movies['crew'] = movies['crew'].apply(lambda x:[i.replace(\" \",\"\") for i in x])"
   ]
  },
  {
   "cell_type": "code",
   "execution_count": 105,
   "id": "4ab99a6c",
   "metadata": {},
   "outputs": [],
   "source": [
    "#now create new column tags and concatenate genres,keywords,cast,crew,overview"
   ]
  },
  {
   "cell_type": "code",
   "execution_count": 106,
   "id": "e6524506",
   "metadata": {},
   "outputs": [],
   "source": [
    "movies['tags'] = movies['overview'] + movies['genres'] + movies['keywords'] +movies['cast']+movies['crew']"
   ]
  },
  {
   "cell_type": "code",
   "execution_count": 107,
   "id": "1b4deed1",
   "metadata": {},
   "outputs": [],
   "source": [
    "#remove all other columns\n",
    "new_df = movies[['movie_id','title','tags']]"
   ]
  },
  {
   "cell_type": "code",
   "execution_count": 108,
   "id": "5c55a233",
   "metadata": {},
   "outputs": [
    {
     "name": "stderr",
     "output_type": "stream",
     "text": [
      "/tmp/ipykernel_22050/1815135130.py:2: SettingWithCopyWarning: \n",
      "A value is trying to be set on a copy of a slice from a DataFrame.\n",
      "Try using .loc[row_indexer,col_indexer] = value instead\n",
      "\n",
      "See the caveats in the documentation: https://pandas.pydata.org/pandas-docs/stable/user_guide/indexing.html#returning-a-view-versus-a-copy\n",
      "  new_df['tags'] = new_df['tags'].apply(lambda x:\" \".join(x))\n"
     ]
    }
   ],
   "source": [
    "#tags is in the list format convert it into strings\n",
    "new_df['tags'] = new_df['tags'].apply(lambda x:\" \".join(x))"
   ]
  },
  {
   "cell_type": "code",
   "execution_count": 109,
   "id": "91b7d81c",
   "metadata": {},
   "outputs": [
    {
     "name": "stderr",
     "output_type": "stream",
     "text": [
      "/tmp/ipykernel_22050/2461458423.py:3: SettingWithCopyWarning: \n",
      "A value is trying to be set on a copy of a slice from a DataFrame.\n",
      "Try using .loc[row_indexer,col_indexer] = value instead\n",
      "\n",
      "See the caveats in the documentation: https://pandas.pydata.org/pandas-docs/stable/user_guide/indexing.html#returning-a-view-versus-a-copy\n",
      "  new_df['tags'] = new_df['tags'].apply(lambda x:x.lower())\n"
     ]
    }
   ],
   "source": [
    "#convert tags in lowercse\n",
    "\n",
    "new_df['tags'] = new_df['tags'].apply(lambda x:x.lower())"
   ]
  },
  {
   "cell_type": "code",
   "execution_count": 110,
   "id": "d674744f",
   "metadata": {},
   "outputs": [
    {
     "data": {
      "text/plain": [
       "movie_id                                                20083\n",
       "title                                       Shinjuku Incident\n",
       "tags        iron zhao aka steelhead, a truck repairman fro...\n",
       "Name: 2662, dtype: object"
      ]
     },
     "execution_count": 110,
     "metadata": {},
     "output_type": "execute_result"
    }
   ],
   "source": [
    "new_df.iloc[2662]"
   ]
  },
  {
   "cell_type": "code",
   "execution_count": 111,
   "id": "7312b3d0",
   "metadata": {},
   "outputs": [],
   "source": [
    "#stemming\n",
    "#e.g help,helping,helped so stemming is process of removing suffixes\n",
    "#so help will store\n",
    "import nltk"
   ]
  },
  {
   "cell_type": "code",
   "execution_count": 112,
   "id": "90dc71bc",
   "metadata": {},
   "outputs": [],
   "source": [
    "from nltk.stem.porter import PorterStemmer\n",
    "ps = PorterStemmer()\n",
    "\n",
    "#ps.stem('sleeping')"
   ]
  },
  {
   "cell_type": "code",
   "execution_count": 113,
   "id": "3d528d27",
   "metadata": {},
   "outputs": [],
   "source": [
    "def stem(text):\n",
    "    y = []\n",
    "    \n",
    "    for i in text.split():\n",
    "        y.append(ps.stem(i))\n",
    "    return \" \".join(y)  #returning string"
   ]
  },
  {
   "cell_type": "code",
   "execution_count": 114,
   "id": "7d15c2ee",
   "metadata": {},
   "outputs": [
    {
     "name": "stderr",
     "output_type": "stream",
     "text": [
      "/tmp/ipykernel_22050/3213734980.py:1: SettingWithCopyWarning: \n",
      "A value is trying to be set on a copy of a slice from a DataFrame.\n",
      "Try using .loc[row_indexer,col_indexer] = value instead\n",
      "\n",
      "See the caveats in the documentation: https://pandas.pydata.org/pandas-docs/stable/user_guide/indexing.html#returning-a-view-versus-a-copy\n",
      "  new_df['tags'] = new_df['tags'].apply(stem)\n"
     ]
    }
   ],
   "source": [
    "new_df['tags'] = new_df['tags'].apply(stem)"
   ]
  },
  {
   "cell_type": "markdown",
   "id": "e38291bc",
   "metadata": {},
   "source": [
    "# vectorization"
   ]
  },
  {
   "cell_type": "code",
   "execution_count": 115,
   "id": "108dc8dc",
   "metadata": {},
   "outputs": [],
   "source": [
    "#for vectorization there is library available in sklearn\n",
    "\n",
    "from sklearn.feature_extraction.text import CountVectorizer\n",
    "\n",
    "cv = CountVectorizer(max_features=5000,stop_words='english')\n",
    "#5000 words with max frequency"
   ]
  },
  {
   "cell_type": "code",
   "execution_count": 116,
   "id": "a1041364",
   "metadata": {},
   "outputs": [
    {
     "data": {
      "text/plain": [
       "(4806, 5000)"
      ]
     },
     "execution_count": 116,
     "metadata": {},
     "output_type": "execute_result"
    }
   ],
   "source": [
    "vectors = cv.fit_transform(new_df['tags']).toarray()\n",
    "vectors.shape\n",
    "#above will return sparse matrix.convert it into numpy array\n",
    "#shape (movies,words) each vectorfrom  4806 vectors contains 5000 numbers"
   ]
  },
  {
   "cell_type": "code",
   "execution_count": 117,
   "id": "48529676",
   "metadata": {},
   "outputs": [],
   "source": [
    "#cv.get_feature_names()  #shows 5000 most frequent words"
   ]
  },
  {
   "cell_type": "code",
   "execution_count": 118,
   "id": "306890fd",
   "metadata": {},
   "outputs": [],
   "source": [
    "#we have to calculate distance of each movie from every other movie"
   ]
  },
  {
   "cell_type": "code",
   "execution_count": 119,
   "id": "f638e1b9",
   "metadata": {},
   "outputs": [],
   "source": [
    "#we will calculate cosine distance\n",
    "#distance is inversely proportional to similarity"
   ]
  },
  {
   "cell_type": "code",
   "execution_count": 120,
   "id": "d75c080a",
   "metadata": {},
   "outputs": [],
   "source": [
    "from sklearn.metrics.pairwise import cosine_similarity"
   ]
  },
  {
   "cell_type": "code",
   "execution_count": 121,
   "id": "7b6ac57e",
   "metadata": {},
   "outputs": [],
   "source": [
    "similarity = cosine_similarity(vectors)"
   ]
  },
  {
   "cell_type": "code",
   "execution_count": 122,
   "id": "a32d74ff",
   "metadata": {},
   "outputs": [
    {
     "data": {
      "text/plain": [
       "array([1.        , 0.08346223, 0.0860309 , ..., 0.04499213, 0.        ,\n",
       "       0.        ])"
      ]
     },
     "execution_count": 122,
     "metadata": {},
     "output_type": "execute_result"
    }
   ],
   "source": [
    "similarity[0]"
   ]
  },
  {
   "cell_type": "markdown",
   "id": "de524702",
   "metadata": {},
   "source": [
    "# main function"
   ]
  },
  {
   "cell_type": "code",
   "execution_count": 123,
   "id": "476b8718",
   "metadata": {},
   "outputs": [
    {
     "name": "stdout",
     "output_type": "stream",
     "text": [
      "Aliens vs Predator: Requiem\n",
      "Aliens\n",
      "Falcon Rising\n",
      "Independence Day\n",
      "Titan A.E.\n"
     ]
    }
   ],
   "source": [
    "#steps\n",
    "#1.find index of given movie\n",
    "#2. in similarity matrix go to that index\n",
    "#3. sort that vector which is present on that index\n",
    "\n",
    "def recommend(movie):\n",
    "    movie_index = new_df[new_df['title']==movie].index[0]\n",
    "    distances = similarity[movie_index]\n",
    "    movies_list = sorted(list(enumerate(distances)),reverse=True,key=lambda x:x[1])[1:6]\n",
    "    \n",
    "    for i in movies_list:\n",
    "        print(new_df.iloc[i[0]].title)\n",
    "recommend('Avatar')"
   ]
  },
  {
   "cell_type": "code",
   "execution_count": 124,
   "id": "569812c3",
   "metadata": {},
   "outputs": [],
   "source": [
    "#sorted(similarity[0]) # sorted in ascending\n",
    "#sorted(similarity[0],reverse =True) #now got in descending order\n",
    "\n",
    "#but the problem is that we are loosing movie index \n",
    "#because vector was stored according to movies i.e similarity of movie 0 with 0 on oth index,o with 1 on 1st index\n",
    "#but after sorting we can't say that this is true\n",
    "#so use enumerate function to store index first and then sort\n",
    "#and after we applied enumerate function sorted function will sort on basis of index that we got by enumerate function\n",
    "#but we want sorting on the basis of similarity so write lambda function\n",
    "#we want to recommend 5 movies\n",
    "\n",
    "#sorted(list(enumerate(similarity[0])),reverse=True,key=lambda x:x[1])[1:6]"
   ]
  },
  {
   "cell_type": "code",
   "execution_count": 125,
   "id": "221516fb",
   "metadata": {},
   "outputs": [],
   "source": [
    "import pickle"
   ]
  },
  {
   "cell_type": "code",
   "execution_count": 126,
   "id": "3b494eaf",
   "metadata": {},
   "outputs": [],
   "source": [
    "pickle.dump(new_df.to_dict(),open('movies.pkl','wb'))"
   ]
  },
  {
   "cell_type": "code",
   "execution_count": 127,
   "id": "ea87e929",
   "metadata": {},
   "outputs": [],
   "source": [
    "pickle.dump(similarity,open('similarity.pkl','wb'))"
   ]
  },
  {
   "cell_type": "code",
   "execution_count": 128,
   "id": "f86ddd1b",
   "metadata": {},
   "outputs": [],
   "source": [
    "unpickled_df = pd.read_pickle(\"movies.pkl\")"
   ]
  },
  {
   "cell_type": "code",
   "execution_count": 129,
   "id": "fbd10316",
   "metadata": {},
   "outputs": [
    {
     "data": {
      "text/plain": [
       "20083"
      ]
     },
     "execution_count": 129,
     "metadata": {},
     "output_type": "execute_result"
    }
   ],
   "source": [
    "unpickled_df['movie_id'][2662]"
   ]
  },
  {
   "cell_type": "code",
   "execution_count": null,
   "id": "99094f6c",
   "metadata": {},
   "outputs": [],
   "source": []
  }
 ],
 "metadata": {
  "kernelspec": {
   "display_name": "Python 3 (ipykernel)",
   "language": "python",
   "name": "python3"
  },
  "language_info": {
   "codemirror_mode": {
    "name": "ipython",
    "version": 3
   },
   "file_extension": ".py",
   "mimetype": "text/x-python",
   "name": "python",
   "nbconvert_exporter": "python",
   "pygments_lexer": "ipython3",
   "version": "3.8.10"
  }
 },
 "nbformat": 4,
 "nbformat_minor": 5
}
